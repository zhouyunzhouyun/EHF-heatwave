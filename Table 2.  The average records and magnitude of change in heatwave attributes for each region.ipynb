{
 "cells": [
  {
   "cell_type": "code",
   "execution_count": 1,
   "id": "bc520026",
   "metadata": {
    "ExecuteTime": {
     "end_time": "2023-03-12T07:14:02.400963Z",
     "start_time": "2023-03-12T07:14:02.391029Z"
    }
   },
   "outputs": [],
   "source": [
    "#  pip install openpyxl"
   ]
  },
  {
   "cell_type": "code",
   "execution_count": 42,
   "id": "2e19a50b",
   "metadata": {
    "ExecuteTime": {
     "end_time": "2023-03-18T14:42:52.116475Z",
     "start_time": "2023-03-18T14:42:52.105957Z"
    }
   },
   "outputs": [],
   "source": [
    "import matplotlib\n",
    "import pandas as pd\n",
    "import matplotlib.font_manager as fm\n",
    "import matplotlib.pyplot as plt\n",
    "import matplotlib.image as mpimg\n",
    "import numpy as np\n",
    "import os\n",
    "\n",
    "\n",
    "import seaborn as sns\n",
    "from matplotlib import rcParams\n",
    "\n",
    "#绘图前的基本设置\n",
    "\n",
    "myfont = fm.FontProperties(fname=r'C:\\Windows\\Fonts\\Times New Roman.tiff') # 设置字体\n",
    "\n",
    "# 设置matplotlib正常显示中文和负号\n",
    "\n",
    "plt.rcParams[\"font.weight\"] = \"bold\"\n",
    "plt.rcParams[\"axes.labelweight\"] = \"bold\"\n",
    "# matplotlib.rcParams['font.sans-serif']=['NSimSun']   # 用黑体显示中文\n",
    "# matplotlib.rcParams['axes.unicode_minus']=False     # 正常显示负号\n",
    "matplotlib.rcParams['font.size'] = 18\n",
    "# matplotlib.rcParams['font.family'] = 'sans-serif'  \n",
    "matplotlib.rcParams['font.sans-serif'] = 'Times New Roman'  # NSimSun 新宋体字体   宋体：SimSuncss\n",
    "\n",
    "%matplotlib inline  \n",
    "#内嵌绘图，并且可以省略掉plt.show()这一步\n",
    "os.chdir(r'E:\\BaiduSyncdisk\\EHF-文献-数据-文章\\EHF\\EHF\\figure-统计\\heatwave linear trend')\n",
    "cmap =list([\"steelblue\", \"yellowgreen\",\"orange\",\"lightcoral\",\"red\", \"green\",\"lightskyblue\"])"
   ]
  },
  {
   "cell_type": "code",
   "execution_count": 43,
   "id": "1c114052",
   "metadata": {},
   "outputs": [
    {
     "name": "stdout",
     "output_type": "stream",
     "text": [
      "(413, 7)\n",
      "Index(['Region', 'Year', 'HWN', 'HWF', 'HWD', 'HWA', 'HWM'], dtype='object')\n"
     ]
    }
   ],
   "source": [
    "\n",
    "df = pd.read_excel('HW_by_year_and_region_mean_1964-2022.xlsx', sheet_name=0)\n",
    "# sorted_data = df.sort_values(by='Eldly population exposure (person-days)',ascending=False)\n",
    "# df['Year'] = pd.to_datetime(df['Year']).astype('datetime64[ns]')\n",
    "print(df.shape)\n",
    "print(df.columns)"
   ]
  },
  {
   "cell_type": "code",
   "execution_count": 8,
   "id": "95ca55d0",
   "metadata": {},
   "outputs": [
    {
     "name": "stdout",
     "output_type": "stream",
     "text": [
      "               HWN_1964-1990  HWF_1964-1990  HWD_1964-1990  HWA_1964-1990  \\\n",
      "Region                                                                      \n",
      "Central China       2.219996      14.113613       8.241193       8.285077   \n",
      "East China          2.037584      14.184384       8.728130       7.892049   \n",
      "North China         2.185713      11.972186       6.757752      15.734812   \n",
      "Northeast           2.154848      14.019455       8.379493      14.701063   \n",
      "Northwest           2.343626      13.005608       7.126555      13.446227   \n",
      "South China         2.090856      11.577018       6.466352       2.688921   \n",
      "Southwest           2.072636      12.720801       7.346543       5.917096   \n",
      "\n",
      "               HWM_1964-1990  HWN_1991-2022  HWF_1991-2022  HWD_1991-2022  \\\n",
      "Region                                                                      \n",
      "Central China       2.966175       2.734549      20.246561      10.939868   \n",
      "East China          2.816540       2.546014      19.692044      11.146881   \n",
      "North China         5.419020       3.308971      21.676931      10.158691   \n",
      "Northeast           5.010207       2.983270      20.440317      10.651939   \n",
      "Northwest           4.792779       3.153510      20.468324      10.044393   \n",
      "South China         0.964542       3.483890      21.354180       9.138679   \n",
      "Southwest           2.003114       2.904173      21.407465      11.184093   \n",
      "\n",
      "               HWA_1991-2022  HWM_1991-2022  HWN_change_rate  HWF_change_rate  \\\n",
      "Region                                                                          \n",
      "Central China       9.760166       3.112033         0.018377         0.219034   \n",
      "East China          9.661946       3.046003         0.018158         0.196702   \n",
      "North China        23.990229       6.681312         0.040116         0.346598   \n",
      "Northeast          18.501226       5.274787         0.029587         0.229316   \n",
      "Northwest          17.105831       5.126955         0.028924         0.266526   \n",
      "South China         4.219764       1.212687         0.049751         0.349184   \n",
      "Southwest           7.323643       2.032957         0.029698         0.310238   \n",
      "\n",
      "               HWD_change_rate  HWA_change_rate  HWM_change_rate  \n",
      "Region                                                            \n",
      "Central China         0.096381         0.052682         0.005209  \n",
      "East China            0.086384         0.063211         0.008195  \n",
      "North China           0.121462         0.294836         0.045082  \n",
      "Northeast             0.081159         0.135720         0.009449  \n",
      "Northwest             0.104209         0.130700         0.011935  \n",
      "South China           0.095440         0.054673         0.008862  \n",
      "Southwest             0.137055         0.050234         0.001066  \n"
     ]
    }
   ],
   "source": [
    "import pandas as pd\n",
    "\n",
    "# 读取数据\n",
    "# df['Year'] = pd.to_datetime(df['Year']).astype('datetime64[ns]')\n",
    "\n",
    "\n",
    "# 1964-1990年的数据\n",
    "df_1 = df[(df['Year'] >= 1964) & (df['Year'] <= 1990)]\n",
    "df_1 = df_1.groupby('Region')[['HWN', 'HWF', 'HWD', 'HWA', 'HWM']].mean()\n",
    "\n",
    "# 1991-2022年的数据\n",
    "df_2 = df[(df['Year'] >= 1991) & (df['Year'] <= 2022)]\n",
    "df_2 = df_2.groupby('Region')[['HWN', 'HWF', 'HWD', 'HWA', 'HWM']].mean()\n",
    "\n",
    "# 合并数据\n",
    "df_merge = pd.merge(df_1, df_2, on='Region', suffixes=('_1964-1990', '_1991-2022'))\n",
    "\n",
    "# 计算变化率\n",
    "for col in ['HWN', 'HWF', 'HWD', 'HWA', 'HWM']:\n",
    "    df_merge[f'{col}_change_rate'] = (df_merge[f'{col}_1991-2022'] - df_merge[f'{col}_1964-1990']) / 28\n",
    "\n",
    "# 打印结果\n",
    "print(df_merge)\n",
    "\n",
    "# 保存结果到文件\n",
    "df_merge.to_csv('result.csv')\n"
   ]
  },
  {
   "cell_type": "code",
   "execution_count": 31,
   "id": "3c3015b3",
   "metadata": {},
   "outputs": [
    {
     "name": "stdout",
     "output_type": "stream",
     "text": [
      "              HWN_1964-1990           HWF_1964-1990           HWD_1964-1990  \\\n",
      "                       mean       std          mean       std          mean   \n",
      "Region                                                                        \n",
      "Central China      2.219996  0.962386     14.113613  7.793423      8.241193   \n",
      "East China         2.037584  0.684650     14.184384  7.853895      8.728130   \n",
      "North China        2.185713  0.631093     11.972186  4.172997      6.757752   \n",
      "Northeast          2.154848  0.545762     14.019455  6.110808      8.379493   \n",
      "Northwest          2.343626  0.664908     13.005608  4.011802      7.126555   \n",
      "South China        2.090856  0.954692     11.577018  7.134206      6.466352   \n",
      "Southwest          2.072636  0.689357     12.720801  5.395090      7.346543   \n",
      "\n",
      "                        HWA_1964-1990           HWM_1964-1990            ...  \\\n",
      "                    std          mean       std          mean       std  ...   \n",
      "Region                                                                   ...   \n",
      "Central China  4.123814      8.285077  4.100541      2.966175  1.285922  ...   \n",
      "East China     4.220890      7.892049  3.936554      2.816540  1.072905  ...   \n",
      "North China    2.105187     15.734812  6.135162      5.419020  1.799692  ...   \n",
      "Northeast      3.563454     14.701063  5.525457      5.010207  1.616706  ...   \n",
      "Northwest      1.575189     13.446227  3.911014      4.792779  1.164769  ...   \n",
      "South China    3.589971      2.688921  1.159023      0.964542  0.295338  ...   \n",
      "Southwest      2.808913      5.917096  2.366663      2.003114  0.607233  ...   \n",
      "\n",
      "              HWN_slope HWN_rvalue HWF_slope HWF_rvalue HWD_slope HWD_rvalue  \\\n",
      "                                                                               \n",
      "Region                                                                         \n",
      "Central China  0.030727   0.519539  0.286697    0.55414  0.115605   0.462022   \n",
      "East China     0.030727   0.519539  0.286697    0.55414  0.115605   0.462022   \n",
      "North China    0.030727   0.519539  0.286697    0.55414  0.115605   0.462022   \n",
      "Northeast      0.030727   0.519539  0.286697    0.55414  0.115605   0.462022   \n",
      "Northwest      0.030727   0.519539  0.286697    0.55414  0.115605   0.462022   \n",
      "South China    0.030727   0.519539  0.286697    0.55414  0.115605   0.462022   \n",
      "Southwest      0.030727   0.519539  0.286697    0.55414  0.115605   0.462022   \n",
      "\n",
      "              HWA_slope HWA_rvalue HWM_slope HWM_rvalue  \n",
      "                                                         \n",
      "Region                                                   \n",
      "Central China  0.106147   0.328391  0.013115   0.171932  \n",
      "East China     0.106147   0.328391  0.013115   0.171932  \n",
      "North China    0.106147   0.328391  0.013115   0.171932  \n",
      "Northeast      0.106147   0.328391  0.013115   0.171932  \n",
      "Northwest      0.106147   0.328391  0.013115   0.171932  \n",
      "South China    0.106147   0.328391  0.013115   0.171932  \n",
      "Southwest      0.106147   0.328391  0.013115   0.171932  \n",
      "\n",
      "[7 rows x 30 columns]\n"
     ]
    }
   ],
   "source": [
    "import pandas as pd\n",
    "import numpy as np\n",
    "from scipy import stats\n",
    "\n",
    "# 读取数据\n",
    "# df = pd.read_csv(\"data.csv\")\n",
    "\n",
    "# 1964-1990年的数据\n",
    "df_1 = df[(df['Year'] >= 1964) & (df['Year'] <= 1990)]\n",
    "df_1 = df_1.groupby('Region')[['HWN', 'HWF', 'HWD', 'HWA', 'HWM']].agg([np.mean, np.std])\n",
    "\n",
    "# 1991-2022年的数据\n",
    "df_2 = df[(df['Year'] >= 1991) & (df['Year'] <= 2022)]\n",
    "df_2 = df_2.groupby('Region')[['HWN', 'HWF', 'HWD', 'HWA', 'HWM']].agg([np.mean, np.std])\n",
    "\n",
    "# 完成数据合并\n",
    "df_merge = pd.merge(df_1, df_2, on='Region', suffixes=('_1964-1990', '_1991-2022'))\n",
    "\n",
    "# 计算十年际变化率\n",
    "for col in ['HWN', 'HWF', 'HWD', 'HWA', 'HWM']:\n",
    "    x = range(1, 6)  # 十年际\n",
    "    y = df[(col)] - df.groupby('Region')[col].transform('mean')\n",
    "    slope, _, rvalue, _, _ = stats.linregress(df['Year'], y)\n",
    "    df_merge[f'{col}_slope'] = slope\n",
    "    df_merge[f'{col}_rvalue'] = rvalue\n",
    "\n",
    "# 打印结果\n",
    "print(df_merge)\n",
    "\n",
    "# 保存结果到文件\n",
    "df_merge.to_csv('result1.csv')\n",
    "\n"
   ]
  },
  {
   "cell_type": "code",
   "execution_count": 65,
   "id": "c3503320",
   "metadata": {},
   "outputs": [
    {
     "name": "stdout",
     "output_type": "stream",
     "text": [
      "已将结果保存到output_summary.xlsx文件中\n"
     ]
    }
   ],
   "source": [
    "import pandas as pd\n",
    "import numpy as np\n",
    "from scipy import stats\n",
    "\n",
    "# 读取数据\n",
    "# df = pd.read_csv('your_data_file.csv')\n",
    "\n",
    "# 根据年份进行数据分组\n",
    "df_1964_1990 = df[(df['Year'] >= 1964) & (df['Year'] <= 1990)]\n",
    "df_1991_2022 = df[(df['Year'] >= 1991) & (df['Year'] <= 2022)]\n",
    "\n",
    "# 计算每个地区每个指标的平均值和标准偏差\n",
    "grouped_1964_1990 = df_1964_1990.groupby('Region').agg(\n",
    "    HWN_mean_1964_1990=('HWN', 'mean'),\n",
    "    HWF_mean_1964_1990=('HWF', 'mean'),\n",
    "    HWD_mean_1964_1990=('HWD', 'mean'),\n",
    "    HWA_mean_1964_1990=('HWA', 'mean'),\n",
    "    HWM_mean_1964_1990=('HWM', 'mean'),\n",
    "    HWN_std_1964_1990=('HWN', 'std'),\n",
    "    HWF_std_1964_1990=('HWF', 'std'),\n",
    "    HWD_std_1964_1990=('HWD', 'std'),\n",
    "    HWA_std_1964_1990=('HWA', 'std'),\n",
    "    HWM_std_1964_1990=('HWM', 'std')\n",
    ").reset_index()\n",
    "\n",
    "grouped_1991_2022 = df_1991_2022.groupby('Region').agg(\n",
    "    HWN_mean_1991_2022=('HWN', 'mean'),\n",
    "    HWF_mean_1991_2022=('HWF', 'mean'),\n",
    "    HWD_mean_1991_2022=('HWD', 'mean'),\n",
    "    HWA_mean_1991_2022=('HWA', 'mean'),\n",
    "    HWM_mean_1991_2022=('HWM', 'mean'),\n",
    "    HWN_std_1991_2022=('HWN', 'std'),\n",
    "    HWF_std_1991_2022=('HWF', 'std'),\n",
    "    HWD_std_1991_2022=('HWD', 'std'),\n",
    "    HWA_std_1991_2022=('HWA', 'std'),\n",
    "    HWM_std_1991_2022=('HWM', 'std')\n",
    ").reset_index()\n",
    "\n",
    "# 合并两个数据表\n",
    "grouped = grouped_1964_1990.merge(grouped_1991_2022, on='Region')\n",
    "\n",
    "# 计算线性回归和十年际变化率\n",
    "for region in grouped['Region'].unique():\n",
    "    for col in ['HWN', 'HWF', 'HWD', 'HWA', 'HWM']:\n",
    "        x = df[df['Region'] == region]['Year']\n",
    "        y = df[df['Region'] == region][col]\n",
    "        slope, intercept, r_value, _, _ = stats.linregress(x, y)\n",
    "\n",
    "        # 将十年际变化率和R值添加到表格中\n",
    "        grouped.loc[grouped['Region'] == region,\n",
    "\n",
    "f'{col}_10yr_change'] = slope * 10\n",
    "grouped.loc[grouped['Region'] == region, f'{col}_r_value'] = r_value\n",
    "grouped = grouped.round(2)\n",
    "\n",
    "# 保存结果到CSV文件\n",
    "grouped.to_excel('output_summary.xlsx', index=False, engine='openpyxl')\n",
    "\n",
    "print(\"已将结果保存到output_summary.xlsx文件中\")"
   ]
  },
  {
   "cell_type": "code",
   "execution_count": null,
   "id": "b3fc9736",
   "metadata": {},
   "outputs": [],
   "source": []
  }
 ],
 "metadata": {
  "kernelspec": {
   "display_name": "Python 3 (ipykernel)",
   "language": "python",
   "name": "python3"
  },
  "language_info": {
   "codemirror_mode": {
    "name": "ipython",
    "version": 3
   },
   "file_extension": ".py",
   "mimetype": "text/x-python",
   "name": "python",
   "nbconvert_exporter": "python",
   "pygments_lexer": "ipython3",
   "version": "3.8.16"
  },
  "toc": {
   "base_numbering": 1,
   "nav_menu": {},
   "number_sections": true,
   "sideBar": true,
   "skip_h1_title": false,
   "title_cell": "Table of Contents",
   "title_sidebar": "Contents",
   "toc_cell": false,
   "toc_position": {},
   "toc_section_display": true,
   "toc_window_display": false
  },
  "varInspector": {
   "cols": {
    "lenName": 16,
    "lenType": 16,
    "lenVar": 40
   },
   "kernels_config": {
    "python": {
     "delete_cmd_postfix": "",
     "delete_cmd_prefix": "del ",
     "library": "var_list.py",
     "varRefreshCmd": "print(var_dic_list())"
    },
    "r": {
     "delete_cmd_postfix": ") ",
     "delete_cmd_prefix": "rm(",
     "library": "var_list.r",
     "varRefreshCmd": "cat(var_dic_list()) "
    }
   },
   "types_to_exclude": [
    "module",
    "function",
    "builtin_function_or_method",
    "instance",
    "_Feature"
   ],
   "window_display": false
  }
 },
 "nbformat": 4,
 "nbformat_minor": 5
}
